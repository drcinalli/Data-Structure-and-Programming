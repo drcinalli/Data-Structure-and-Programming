{
 "cells": [
  {
   "cell_type": "markdown",
   "metadata": {
    "slideshow": {
     "slide_type": "skip"
    }
   },
   "source": [
    "<img src=\"./img/logoconvexbrancomini2.png\"  align=\"right\"/>"
   ]
  },
  {
   "cell_type": "markdown",
   "metadata": {
    "slideshow": {
     "slide_type": "skip"
    }
   },
   "source": [
    "<img src=\"./img/logoboxverde.png\" align=\"right\"/>\n",
    "<br>\n"
   ]
  },
  {
   "cell_type": "markdown",
   "metadata": {
    "slideshow": {
     "slide_type": "slide"
    },
    "toc-hr-collapsed": true
   },
   "source": [
    "<!--\n",
    "<img src=\"./img/logoconvexbrancomini2.png\"  align=\"right\"/>\n",
    "-->\n",
    "# Python\n",
    "\n",
    "<!--\n",
    "<img src=\"./img/logoboxverde.png\" align=\"right\"/>\n",
    "-->\n",
    "__by [Daniel Cinalli](http://www.cinalli.com.br)__ - DSc Artificial Intelligence\n",
    "\n",
    "## What is Python?\n"
   ]
  },
  {
   "cell_type": "markdown",
   "metadata": {
    "slideshow": {
     "slide_type": "slide"
    }
   },
   "source": [
    "\n",
    "<br/><br/> \n",
    "## Notes:\n",
    "\n",
    "* Coded in Python 3.x\n",
    "* Using [Anaconda](https://www.anaconda.com/) is recommended\n",
    "* Run the notebook `online` at [binder](https://mybinder.org/v2/gh/drcinalli/Artificial-Intelligence-and-Transformation/master) [![Binder](https://mybinder.org/badge_logo.svg)](https://mybinder.org/v2/gh/drcinalli/Artificial-Intelligence-and-Transformation/master)\n",
    "<!-- * [nbviewer](https://nbviewer.jupyter.org/) allows you to switch the notebooks \"slides\" mode-->\n",
    "\n",
    "<br/><br/> \n",
    "## Notebooks based on*:\n",
    "* Luis Marti \n",
    "* DataScience Academy\n",
    "\n",
    "\n",
    "\n",
    "###### * Gradually changed by me\n",
    "<br/><br/> "
   ]
  },
  {
   "cell_type": "markdown",
   "metadata": {},
   "source": [
    "\n",
    "\n",
    "## What is Python?\n",
    "\n",
    "\n",
    "<img align=right src=\"img/py logo.png\" width=300/>\n",
    "\n",
    "> released in 1991, Guido van Rossum \n",
    "        \n",
    "<br>  \n",
    "\n",
    "main properties:\n",
    "\n",
    "* interpreted\n",
    "* high-level and general-purpose programming language\n",
    "* indentation\n",
    "* object-oriented \n",
    "* dynamically typed \n",
    "* garbage-collected\n",
    "        \n",
    "<br>\n",
    "<br>\n"
   ]
  },
  {
   "cell_type": "markdown",
   "metadata": {},
   "source": [
    "## Why Python?\n",
    "\n",
    "\n",
    "<img align=right src=\"img/pyinc.png\" width=300/>\n",
    "\n",
    "> data scientists and AI community chose Python  \n",
    "        \n",
    "<br>  \n",
    "\n",
    "some reasons:\n",
    "\n",
    "* extensive community\n",
    "* best libraries (packages) \n",
    "* jupyter notebook\n",
    "* easy\n",
    "* scalability\n",
    "* portability\n",
    "        \n",
    "<br>\n",
    "<br>\n"
   ]
  },
  {
   "cell_type": "markdown",
   "metadata": {},
   "source": [
    "## Python Packages\n",
    "\n",
    "\n",
    "<br>\n",
    "<img  src=\"img/pypackages.png\" width=500/>"
   ]
  }
 ],
 "metadata": {
  "kernelspec": {
   "display_name": "Python 3",
   "language": "python",
   "name": "python3"
  },
  "language_info": {
   "codemirror_mode": {
    "name": "ipython",
    "version": 3
   },
   "file_extension": ".py",
   "mimetype": "text/x-python",
   "name": "python",
   "nbconvert_exporter": "python",
   "pygments_lexer": "ipython3",
   "version": "3.7.6"
  }
 },
 "nbformat": 4,
 "nbformat_minor": 4
}
